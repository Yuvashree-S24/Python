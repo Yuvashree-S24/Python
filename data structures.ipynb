{
 "cells": [
  {
   "cell_type": "markdown",
   "id": "e1af7647",
   "metadata": {},
   "source": [
    "## data structure"
   ]
  },
  {
   "cell_type": "code",
   "execution_count": 1,
   "id": "4a555bf0",
   "metadata": {
    "collapsed": true
   },
   "outputs": [
    {
     "data": {
      "text/plain": [
       "[1, 13.5, 'hello', True, 12, 7]"
      ]
     },
     "execution_count": 1,
     "metadata": {},
     "output_type": "execute_result"
    }
   ],
   "source": [
    "sample_list=[1,13.5,\"hello\",True,12,7]\n",
    "sample_list"
   ]
  },
  {
   "cell_type": "code",
   "execution_count": 2,
   "id": "7bbf9750",
   "metadata": {
    "collapsed": true
   },
   "outputs": [
    {
     "data": {
      "text/plain": [
       "'hello'"
      ]
     },
     "execution_count": 2,
     "metadata": {},
     "output_type": "execute_result"
    }
   ],
   "source": [
    "sample_list[2 ]"
   ]
  },
  {
   "cell_type": "markdown",
   "id": "82dd7182",
   "metadata": {},
   "source": [
    " ## whenever we are changing the list we need to call the function again"
   ]
  },
  {
   "cell_type": "code",
   "execution_count": 3,
   "id": "eb977782",
   "metadata": {
    "collapsed": true
   },
   "outputs": [],
   "source": [
    "sample_list[3 ]=55"
   ]
  },
  {
   "cell_type": "code",
   "execution_count": 5,
   "id": "c57d4853",
   "metadata": {
    "collapsed": true
   },
   "outputs": [
    {
     "data": {
      "text/plain": [
       "55"
      ]
     },
     "execution_count": 5,
     "metadata": {},
     "output_type": "execute_result"
    }
   ],
   "source": [
    "sample_list[-3]\n"
   ]
  },
  {
   "cell_type": "markdown",
   "id": "718b1e26",
   "metadata": {},
   "source": [
    "## list will be print in reverse when we use -ve numbers"
   ]
  },
  {
   "cell_type": "markdown",
   "id": "ebc0efa1",
   "metadata": {},
   "source": [
    "## list is mutable we can change the values n it is a heterogenous "
   ]
  },
  {
   "cell_type": "markdown",
   "id": "7fe91da6",
   "metadata": {},
   "source": [
    "## list is a set of elements enclosed in the sqaure braket"
   ]
  },
  {
   "cell_type": "markdown",
   "id": "1a9c9fc9",
   "metadata": {},
   "source": [
    "## hetrogenous means it allows multiple data types."
   ]
  },
  {
   "cell_type": "markdown",
   "id": "ad77b887",
   "metadata": {},
   "source": [
    "## tuple"
   ]
  },
  {
   "cell_type": "code",
   "execution_count": null,
   "id": "2caf0d6c",
   "metadata": {},
   "outputs": [],
   "source": [
    "## once a elememts is assigned i cannote dbe chnanged so it is immutable"
   ]
  },
  {
   "cell_type": "code",
   "execution_count": 6,
   "id": "5060dd78",
   "metadata": {
    "collapsed": true
   },
   "outputs": [],
   "source": [
    "sample_tuple=(23,76,\"hi\")"
   ]
  },
  {
   "cell_type": "code",
   "execution_count": 8,
   "id": "8940e21a",
   "metadata": {},
   "outputs": [
    {
     "data": {
      "text/plain": [
       "(23, 76, 'hi')"
      ]
     },
     "execution_count": 8,
     "metadata": {},
     "output_type": "execute_result"
    }
   ],
   "source": [
    "sample_tuple"
   ]
  },
  {
   "cell_type": "markdown",
   "id": "405a6740",
   "metadata": {},
   "source": [
    "## set"
   ]
  },
  {
   "cell_type": "markdown",
   "id": "5d792fd5",
   "metadata": {},
   "source": [
    "## it always print in the order it will see the first number according to the order"
   ]
  },
  {
   "cell_type": "code",
   "execution_count": 11,
   "id": "dbb4cc56",
   "metadata": {},
   "outputs": [
    {
     "data": {
      "text/plain": [
       "{23, 24, 76, 'apple', 'hi'}"
      ]
     },
     "execution_count": 11,
     "metadata": {},
     "output_type": "execute_result"
    }
   ],
   "source": [
    "sample_set={23,76,\"hi\",\"apple\",24}\n",
    "sample_set"
   ]
  },
  {
   "cell_type": "code",
   "execution_count": 12,
   "id": "71746617",
   "metadata": {},
   "outputs": [],
   "source": [
    "sample_set.add(100 )"
   ]
  },
  {
   "cell_type": "code",
   "execution_count": 13,
   "id": "d1319420",
   "metadata": {},
   "outputs": [
    {
     "data": {
      "text/plain": [
       "{100, 23, 24, 76, 'apple', 'hi'}"
      ]
     },
     "execution_count": 13,
     "metadata": {},
     "output_type": "execute_result"
    }
   ],
   "source": [
    "sample_set"
   ]
  },
  {
   "cell_type": "code",
   "execution_count": 14,
   "id": "1683db58",
   "metadata": {},
   "outputs": [],
   "source": [
    "sample_set.remove(76 )"
   ]
  },
  {
   "cell_type": "code",
   "execution_count": 15,
   "id": "c5f7173f",
   "metadata": {},
   "outputs": [
    {
     "data": {
      "text/plain": [
       "{100, 23, 24, 'apple', 'hi'}"
      ]
     },
     "execution_count": 15,
     "metadata": {},
     "output_type": "execute_result"
    }
   ],
   "source": [
    "sample_set"
   ]
  },
  {
   "cell_type": "markdown",
   "id": "802bb877",
   "metadata": {},
   "source": [
    "## dictonary"
   ]
  },
  {
   "cell_type": "markdown",
   "id": "f71665b0",
   "metadata": {},
   "source": [
    "## it always uses a  key value "
   ]
  },
  {
   "cell_type": "markdown",
   "id": "609b8ac8",
   "metadata": {},
   "source": [
    "## it is mutable"
   ]
  },
  {
   "cell_type": "code",
   "execution_count": 16,
   "id": "ffe4a63c",
   "metadata": {},
   "outputs": [
    {
     "data": {
      "text/plain": [
       "{1: 23, 2: 76, 3: 'hi'}"
      ]
     },
     "execution_count": 16,
     "metadata": {},
     "output_type": "execute_result"
    }
   ],
   "source": [
    "sample_dict={1:23,2:76,3:\"hi\"}\n",
    "sample_dict"
   ]
  },
  {
   "cell_type": "code",
   "execution_count": null,
   "id": "c3e7e9bb",
   "metadata": {},
   "outputs": [],
   "source": []
  }
 ],
 "metadata": {
  "kernelspec": {
   "display_name": "Python 3 (ipykernel)",
   "language": "python",
   "name": "python3"
  },
  "language_info": {
   "codemirror_mode": {
    "name": "ipython",
    "version": 3
   },
   "file_extension": ".py",
   "mimetype": "text/x-python",
   "name": "python",
   "nbconvert_exporter": "python",
   "pygments_lexer": "ipython3",
   "version": "3.9.13"
  }
 },
 "nbformat": 4,
 "nbformat_minor": 5
}
