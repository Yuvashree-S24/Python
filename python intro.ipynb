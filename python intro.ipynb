{
 "cells": [
  {
   "cell_type": "code",
   "execution_count": 1,
   "id": "0a6b2fa4",
   "metadata": {},
   "outputs": [
    {
     "name": "stdout",
     "output_type": "stream",
     "text": [
      "hi\n"
     ]
    }
   ],
   "source": [
    "print(\"hi\")\n"
   ]
  },
  {
   "cell_type": "markdown",
   "id": "0b40441c",
   "metadata": {},
   "source": [
    "## python"
   ]
  },
  {
   "cell_type": "code",
   "execution_count": 2,
   "id": "00316007",
   "metadata": {},
   "outputs": [
    {
     "name": "stdout",
     "output_type": "stream",
     "text": [
      "yuva\n"
     ]
    }
   ],
   "source": [
    "print('yuva')"
   ]
  },
  {
   "cell_type": "code",
   "execution_count": null,
   "id": "697524c3",
   "metadata": {},
   "outputs": [],
   "source": []
  },
  {
   "cell_type": "code",
   "execution_count": null,
   "id": "477ab727",
   "metadata": {},
   "outputs": [],
   "source": []
  },
  {
   "cell_type": "code",
   "execution_count": null,
   "id": "048be9bd",
   "metadata": {},
   "outputs": [],
   "source": []
  },
  {
   "cell_type": "code",
   "execution_count": 4,
   "id": "cf57d2fc",
   "metadata": {},
   "outputs": [
    {
     "data": {
      "text/plain": [
       "str"
      ]
     },
     "execution_count": 4,
     "metadata": {},
     "output_type": "execute_result"
    }
   ],
   "source": [
    "a=\"yuva\"\n",
    "type(a)"
   ]
  },
  {
   "cell_type": "code",
   "execution_count": 5,
   "id": "614020d5",
   "metadata": {},
   "outputs": [
    {
     "data": {
      "text/plain": [
       "str"
      ]
     },
     "execution_count": 5,
     "metadata": {},
     "output_type": "execute_result"
    }
   ],
   "source": [
    "x='hi'\n",
    "type(x)"
   ]
  },
  {
   "cell_type": "markdown",
   "id": "d6d273e3",
   "metadata": {},
   "source": [
    "## varibles should not have a space\n"
   ]
  },
  {
   "cell_type": "markdown",
   "id": "82bf3682",
   "metadata": {},
   "source": [
    "### the only _is allowed between the variable"
   ]
  },
  {
   "cell_type": "code",
   "execution_count": 6,
   "id": "40701816",
   "metadata": {},
   "outputs": [],
   "source": [
    "course_data =\"python\""
   ]
  },
  {
   "cell_type": "code",
   "execution_count": 7,
   "id": "80ed7380",
   "metadata": {},
   "outputs": [
    {
     "ename": "SyntaxError",
     "evalue": "invalid syntax (1837710361.py, line 1)",
     "output_type": "error",
     "traceback": [
      "\u001b[1;36m  File \u001b[1;32m\"C:\\Users\\Dell\\AppData\\Local\\Temp\\ipykernel_7716\\1837710361.py\"\u001b[1;36m, line \u001b[1;32m1\u001b[0m\n\u001b[1;33m    course data =\"python\"\u001b[0m\n\u001b[1;37m           ^\u001b[0m\n\u001b[1;31mSyntaxError\u001b[0m\u001b[1;31m:\u001b[0m invalid syntax\n"
     ]
    }
   ],
   "source": [
    "course data =\"python\""
   ]
  },
  {
   "cell_type": "code",
   "execution_count": 8,
   "id": "d4a040b2",
   "metadata": {},
   "outputs": [],
   "source": [
    "course3data =\"python\""
   ]
  },
  {
   "cell_type": "code",
   "execution_count": 9,
   "id": "1bf25d72",
   "metadata": {},
   "outputs": [
    {
     "ename": "SyntaxError",
     "evalue": "cannot assign to operator (1642614977.py, line 1)",
     "output_type": "error",
     "traceback": [
      "\u001b[1;36m  File \u001b[1;32m\"C:\\Users\\Dell\\AppData\\Local\\Temp\\ipykernel_7716\\1642614977.py\"\u001b[1;36m, line \u001b[1;32m1\u001b[0m\n\u001b[1;33m    course+data =\"python\"\u001b[0m\n\u001b[1;37m    ^\u001b[0m\n\u001b[1;31mSyntaxError\u001b[0m\u001b[1;31m:\u001b[0m cannot assign to operator\n"
     ]
    }
   ],
   "source": [
    "course+data =\"python\""
   ]
  },
  {
   "cell_type": "code",
   "execution_count": null,
   "id": "4862dffd",
   "metadata": {},
   "outputs": [],
   "source": []
  }
 ],
 "metadata": {
  "kernelspec": {
   "display_name": "Python 3 (ipykernel)",
   "language": "python",
   "name": "python3"
  },
  "language_info": {
   "codemirror_mode": {
    "name": "ipython",
    "version": 3
   },
   "file_extension": ".py",
   "mimetype": "text/x-python",
   "name": "python",
   "nbconvert_exporter": "python",
   "pygments_lexer": "ipython3",
   "version": "3.9.13"
  }
 },
 "nbformat": 4,
 "nbformat_minor": 5
}
